{
  "cells": [
    {
      "cell_type": "markdown",
      "metadata": {
        "id": "smnUGQN-eB32"
      },
      "source": [
        "# Data Manipulation with Ndarray\n",
        "\n",
        "Importing `np` (numpy-like) module and `npx` (numpy extensions) module from MXNet."
      ]
    },
    {
      "cell_type": "code",
      "execution_count": null,
      "metadata": {
        "ExecuteTime": {
          "end_time": "2019-07-03T21:48:38.205412Z",
          "start_time": "2019-07-03T21:48:36.544703Z"
        },
        "attributes": {
          "classes": [],
          "id": "",
          "n": "1"
        },
        "id": "Lz1eB1NteB34"
      },
      "outputs": [],
      "source": [
        "from mxnet import np, npx\n",
        "# Invoke the experimental numpy-compatible feature in MXNet\n",
        "npx.set_np()"
      ]
    },
    {
      "cell_type": "code",
      "source": [],
      "metadata": {
        "id": "cCIL0P-qe1AI"
      },
      "execution_count": null,
      "outputs": []
    }
  ],
  "metadata": {
    "celltoolbar": "Slideshow",
    "kernelspec": {
      "display_name": "Python 3",
      "name": "python3"
    },
    "language_info": {
      "codemirror_mode": {
        "name": "ipython",
        "version": 3
      },
      "file_extension": ".py",
      "mimetype": "text/x-python",
      "name": "python",
      "nbconvert_exporter": "python",
      "pygments_lexer": "ipython3",
      "version": "3.7.1"
    },
    "toc": {
      "base_numbering": 1,
      "nav_menu": {},
      "number_sections": true,
      "sideBar": true,
      "skip_h1_title": false,
      "title_cell": "Table of Contents",
      "title_sidebar": "Contents",
      "toc_cell": false,
      "toc_position": {},
      "toc_section_display": true,
      "toc_window_display": false
    },
    "colab": {
      "provenance": [],
      "gpuType": "T4"
    },
    "accelerator": "GPU"
  },
  "nbformat": 4,
  "nbformat_minor": 0
}